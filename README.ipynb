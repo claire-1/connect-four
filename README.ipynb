{
 "cells": [
  {
   "cell_type": "markdown",
   "metadata": {},
   "source": [
    "# Connect Four Project Documentation"
   ]
  },
  {
   "cell_type": "markdown",
   "metadata": {},
   "source": [
    "# What does your project do?"
   ]
  },
  {
   "cell_type": "markdown",
   "metadata": {},
   "source": [
    "### Overview"
   ]
  },
  {
   "cell_type": "markdown",
   "metadata": {},
   "source": [
    "My project is a connect four game that you can play with a friend on your computer. Connect four is a great way to pass the time because it requires some thought, careful observation, and is good for all ages! While it is a typically two-player game, it is still possible to have fun if you play it by yourself (say if you are self-isolating).\n",
    "\n",
    "I created this project for the final project of a class I took.\n",
    "\n",
    "<span style=\"color: blue;\">To start the game, run: $ python3 connect-four.py </span>\n",
    "\n",
    "<span style=\"color: blue;\">or evaluate the cell in \"Explain how we can run your project\" below.</span>\n",
    "\n",
    "This will launch a window with a board: "
   ]
  },
  {
   "cell_type": "markdown",
   "metadata": {},
   "source": [
    "![emptyBoard](photos/clearBoardConnectFour.png \"emptyBoard\")"
   ]
  },
  {
   "cell_type": "markdown",
   "metadata": {},
   "source": [
    "The board simulates the physical struture that is used in the traditional, physical game:"
   ]
  },
  {
   "cell_type": "markdown",
   "metadata": {},
   "source": [
    "![traditionalBoard](photos/traditionalConnectFour.jpg \"traditonalBoard\")\n",
    "\n",
    "(Image source: https://cf.geekdo-images.com/opengraph/img/oTQ9W0eSlSbzEWixNt4nJ6tOQis=/fit-in/1200x630/pic859430.jpg)"
   ]
  },
  {
   "cell_type": "markdown",
   "metadata": {},
   "source": [
    "### Game Rules"
   ]
  },
  {
   "cell_type": "markdown",
   "metadata": {},
   "source": [
    "The game follows traditional connect four rules, which are:\n",
    "- The red player goes first and from there the red and yellow players alternate turns.\n",
    "- The goal of the game is to get four of your tiles (four red tiles if you are the red player and four yellow tiles if you are the yellow player) together in a row, column, or diagonal.\n",
    "- The first player to get four tiles together in a row, column, or diagonal wins.\n",
    "\n",
    "In this digial version of the game, instead of dropping a tile into the physcial struture, each player clicks on any circle in the column in which they would like to place a tile. The player does not have to click the top circle for a column. Like traditional connect four, tiles are filled in from the bottom of the board. "
   ]
  },
  {
   "cell_type": "markdown",
   "metadata": {},
   "source": [
    "![DiagonalGame](gifs/diagonalConnectFourRedWinner.gif \"diagonalGame\")"
   ]
  },
  {
   "cell_type": "markdown",
   "metadata": {},
   "source": [
    "To clear the board at any point during the game, the player can press the space bar:"
   ]
  },
  {
   "cell_type": "markdown",
   "metadata": {},
   "source": [
    "![ClearBoard](gifs/connectFourClearBoard.gif \"clearBoard\")"
   ]
  },
  {
   "cell_type": "markdown",
   "metadata": {},
   "source": [
    "To quit the game, the player can close the window for the game: "
   ]
  },
  {
   "cell_type": "markdown",
   "metadata": {},
   "source": [
    "![Quitting](gifs/connectFourQuitting.gif \"quitting\")"
   ]
  },
  {
   "cell_type": "markdown",
   "metadata": {},
   "source": [
    "If the game is a tie, the players have to press the space bar to start again or close the window to quit the game:"
   ]
  },
  {
   "cell_type": "markdown",
   "metadata": {},
   "source": [
    "![TieGame](gifs/connectFourTie.gif \"tie\")"
   ]
  },
  {
   "cell_type": "markdown",
   "metadata": {},
   "source": [
    "# Run the Project"
   ]
  },
  {
   "cell_type": "markdown",
   "metadata": {},
   "source": [
    "<span style=\"color: blue;\">To start the game, run: $ python3 connect-four.py </span>\n",
    "\n",
    "<span style=\"color: blue;\">or evaluate the cell below.</span>\n",
    "\n",
    "You need to have pygame-1.9.6 and python3 installed for this game to work.\n",
    "\n",
    "To find out more about the game, see \"What does your project do?\" above."
   ]
  },
  {
   "cell_type": "markdown",
   "metadata": {},
   "source": [
    "### Code"
   ]
  },
  {
   "cell_type": "markdown",
   "metadata": {},
   "source": [
    "connect-four.py"
   ]
  },
  {
   "cell_type": "code",
   "execution_count": 1,
   "metadata": {},
   "outputs": [
    {
     "name": "stdout",
     "output_type": "stream",
     "text": [
      "pygame 1.9.6\n",
      "Hello from the pygame community. https://www.pygame.org/contribute.html\n"
     ]
    }
   ],
   "source": [
    "import heapq\n",
    "import math\n",
    "import time\n",
    "\n",
    "import pygame\n",
    "\n",
    "# To run the game: $ python3 connect-four.py\n",
    "\n",
    "BOARD_WIDTH = 900\n",
    "FOOTER_COLOR = pygame.color.THECOLORS[\"darkseagreen\"]\n",
    "FOOTER_HEIGHT = 200\n",
    "BOARD_HEIGHT = 800\n",
    "OPEN_TILE_COLOR = pygame.color.THECOLORS['white']\n",
    "PLAYER_1_TITLE_COLOR = pygame.color.THECOLORS['firebrick3']\n",
    "PLAYER_2_TITLE_COLOR = pygame.color.THECOLORS['gold1']\n",
    "BACKGROUND_COLOR = pygame.color.THECOLORS[\"darkcyan\"]\n",
    "GENERAL_TEXT_COLOR = pygame.color.THECOLORS['darkorange3']\n",
    "ROW_SPACES = 6 + 1\n",
    "COLUMN_SPACES = 7 + 1\n",
    "RADIUS = 40\n",
    "EMPTY = 0\n",
    "NOT_EMPTY = 1\n",
    "PLAYER_1 = \"red player\"\n",
    "PLAYER_2 = \"yellow player\"\n",
    "CLEAR_BOARD = 0\n",
    "QUIT_GAME = 1\n",
    "HEADER_HEIGHT = 100\n",
    "CLEAR_PAUSE_TIME = 0.02\n",
    "FILL_PAUSE_TIME = 0.1\n",
    "\n",
    "\n",
    "def set_up_screen():\n",
    "    screen = pygame.display.set_mode(\n",
    "        (BOARD_WIDTH, BOARD_HEIGHT + FOOTER_HEIGHT + HEADER_HEIGHT))\n",
    "    screen.fill(BACKGROUND_COLOR)\n",
    "\n",
    "    return screen\n",
    "\n",
    "\n",
    "def set_up_header(screen):\n",
    "    pygame.draw.rect(screen, FOOTER_COLOR,\n",
    "                     (0, 0, BOARD_WIDTH, HEADER_HEIGHT))\n",
    "    font = pygame.font.SysFont(None, 75)\n",
    "    text = font.render(\"Welcome to Connect Four!\", True, BACKGROUND_COLOR)\n",
    "    text_rect = text.get_rect(center=(BOARD_WIDTH/2, HEADER_HEIGHT/2))\n",
    "    pygame.draw.rect(screen, FOOTER_COLOR, text_rect)\n",
    "\n",
    "    screen.blit(text, text_rect)\n",
    "\n",
    "    pygame.display.flip()\n",
    "    pygame.display.update()\n",
    "\n",
    "\n",
    "def set_up_board(screen):\n",
    "    set_up_header(screen)\n",
    "\n",
    "    board_spaces_locations = dict()\n",
    "    board_column_locations = dict()\n",
    "    board = dict()\n",
    "    for col in range(1, COLUMN_SPACES):\n",
    "        board_column_heap = list()\n",
    "        for row in range(1, ROW_SPACES):\n",
    "\n",
    "            screen_location = (math.floor(col*((BOARD_HEIGHT) /\n",
    "                                               ROW_SPACES) - RADIUS), math.floor(row*(BOARD_WIDTH/COLUMN_SPACES) - RADIUS + HEADER_HEIGHT))\n",
    "            pygame.draw.circle(screen, OPEN_TILE_COLOR,\n",
    "                               screen_location, RADIUS)\n",
    "            board_spaces_locations[screen_location] = (row, col)\n",
    "\n",
    "            heapq.heappush(board_column_heap,\n",
    "                           (ROW_SPACES - row, screen_location))\n",
    "\n",
    "            board[(row, col)] = EMPTY\n",
    "        board_column_locations[col] = board_column_heap\n",
    "\n",
    "    pygame.display.update()  # need to make any updates to the screen to be visible\n",
    "\n",
    "    return (board_spaces_locations, board, board_column_locations)\n",
    "\n",
    "\n",
    "def row_winner(board, row, col, player):\n",
    "    if (board[row, col] == player\n",
    "        and board[row + 1, col] == player\n",
    "        and board[row + 2, col] == player\n",
    "            and board[row + 3, col] == player):\n",
    "        return player\n",
    "\n",
    "    return None  # keep playing\n",
    "\n",
    "\n",
    "def col_winner(board, row, col, player):\n",
    "    if (board[row, col] == player\n",
    "        and board[row, col + 1] == player\n",
    "        and board[row, col + 2] == player\n",
    "            and board[row, col + 3] == player):\n",
    "        return player\n",
    "\n",
    "    return None  # keep playing\n",
    "\n",
    "\n",
    "def left_diagonal_winner(board, row, col, player):\n",
    "    if (board[row, col] == player\n",
    "        and board[row+1, col-1] == player\n",
    "        and board[row+2, col-2] == player\n",
    "            and board[row+3, col-3] == player):\n",
    "        return player\n",
    "\n",
    "    return None\n",
    "\n",
    "\n",
    "def right_diagonal_winner(board, row, col, player):\n",
    "    if (board[row, col] == player\n",
    "        and board[row+1, col+1] == player\n",
    "        and board[row+2, col+2] == player\n",
    "            and board[row+3, col+3] == player):\n",
    "        return player\n",
    "\n",
    "    return None\n",
    "\n",
    "\n",
    "def display_turn(screen, player):\n",
    "    cover_up_text = pygame.Rect(0, 0, BOARD_WIDTH, FOOTER_HEIGHT)\n",
    "    cover_up_text.center = (BOARD_WIDTH/2, (BOARD_HEIGHT + FOOTER_HEIGHT/2))\n",
    "    pygame.draw.rect(\n",
    "        screen, FOOTER_COLOR, cover_up_text)\n",
    "\n",
    "    font = pygame.font.SysFont(None, 50)\n",
    "\n",
    "    if player == PLAYER_1:\n",
    "        text = font.render(\n",
    "            \"Next move: \" + str(player), True, PLAYER_1_TITLE_COLOR)\n",
    "    elif player == PLAYER_2:\n",
    "        text = font.render(\n",
    "            \"Next move: \" + str(player), True, PLAYER_2_TITLE_COLOR)\n",
    "\n",
    "    text_rect = text.get_rect(\n",
    "        center=(BOARD_WIDTH/2, (BOARD_HEIGHT + FOOTER_HEIGHT/2)))\n",
    "\n",
    "    screen.blit(text, text_rect)\n",
    "\n",
    "    text = font.render(\"press space bar to clear\", True, GENERAL_TEXT_COLOR)\n",
    "    text_rect = text.get_rect(\n",
    "        center=(BOARD_WIDTH/2, (BOARD_HEIGHT + FOOTER_HEIGHT/5)))\n",
    "    screen.blit(text, text_rect)\n",
    "    pygame.display.flip()\n",
    "\n",
    "\n",
    "def game_status(board):\n",
    "    # Check for row win\n",
    "    for (row, col) in board:\n",
    "        if (row + 3) < ROW_SPACES:\n",
    "            winner = row_winner(board, row, col, PLAYER_1)\n",
    "            if winner is not None:\n",
    "                return (winner, False)\n",
    "\n",
    "            winner = row_winner(board, row, col, PLAYER_2)\n",
    "            if winner is not None:\n",
    "                return (winner, False)\n",
    "\n",
    "        if (col + 3) < COLUMN_SPACES:\n",
    "            winner = col_winner(board, row, col, PLAYER_1)\n",
    "            if winner is not None:\n",
    "                return (winner, False)\n",
    "\n",
    "            winner = col_winner(board, row, col, PLAYER_2)\n",
    "            if winner is not None:\n",
    "                return (winner, False)\n",
    "\n",
    "        if (col + 3) < COLUMN_SPACES and (row + 3) < ROW_SPACES:\n",
    "            winner = right_diagonal_winner(board, row, col, PLAYER_1)\n",
    "            if winner is not None:\n",
    "                return (winner, False)\n",
    "\n",
    "            winner = right_diagonal_winner(board, row, col, PLAYER_2)\n",
    "            if winner is not None:\n",
    "                return (winner, False)\n",
    "\n",
    "        if (col - 3) > 0 and (row + 3) < ROW_SPACES:\n",
    "            winner = left_diagonal_winner(board, row, col, PLAYER_1)\n",
    "            if winner is not None:\n",
    "                return (winner, False)\n",
    "\n",
    "            winner = left_diagonal_winner(board, row, col, PLAYER_2)\n",
    "            if winner is not None:\n",
    "                return (winner, False)\n",
    "    return (None, True)  # no winner and still playing\n",
    "\n",
    "\n",
    "def animate_tile_drop(screen, current_position, destination, row, color):\n",
    "    (x_pos, not_needed_y) = current_position\n",
    "    pygame.display.flip()\n",
    "    time.sleep(FILL_PAUSE_TIME)\n",
    "\n",
    "    while current_position < destination:\n",
    "\n",
    "        pygame.draw.circle(screen, color,\n",
    "                           current_position, RADIUS)\n",
    "        pygame.display.flip()\n",
    "        time.sleep(FILL_PAUSE_TIME)\n",
    "\n",
    "        pygame.draw.circle(screen, OPEN_TILE_COLOR,\n",
    "                           current_position, RADIUS)\n",
    "        pygame.display.flip()\n",
    "        time.sleep(CLEAR_PAUSE_TIME)\n",
    "\n",
    "        row = row + 1\n",
    "        next_y_pos = math.floor(\n",
    "            row*(BOARD_WIDTH/COLUMN_SPACES) - RADIUS + HEADER_HEIGHT)\n",
    "        current_position = (x_pos, next_y_pos)\n",
    "\n",
    "    pygame.draw.circle(screen, color,\n",
    "                       destination, RADIUS)\n",
    "\n",
    "    return\n",
    "\n",
    "\n",
    "def play(screen, board_spaces_locations, board, board_column_locations):\n",
    "    playing = True\n",
    "    clear_board = False\n",
    "    whose_move = PLAYER_1\n",
    "\n",
    "    while playing:\n",
    "        display_turn(screen, whose_move)\n",
    "\n",
    "        for event in pygame.event.get():\n",
    "            if event.type == pygame.QUIT:\n",
    "                return QUIT_GAME\n",
    "            if event.type == pygame.KEYDOWN and event.key == pygame.K_SPACE:\n",
    "                return CLEAR_BOARD  # no winner b/c want to clear board when you press the space key\n",
    "\n",
    "            if event.type != pygame.MOUSEBUTTONUP:\n",
    "                continue  # wait for the user to click something\n",
    "\n",
    "            (clicked_x, clicked_y) = event.pos\n",
    "            for (clicked_circle_screen_loc, board_location) in board_spaces_locations.items():\n",
    "                x_squared = (clicked_x - clicked_circle_screen_loc[0])**2\n",
    "                y_squared = (clicked_y - clicked_circle_screen_loc[1])**2\n",
    "\n",
    "                if (math.sqrt(x_squared + y_squared)) < RADIUS:\n",
    "                    (click_result_row, click_result_col) = board_location\n",
    "\n",
    "                    if (len(board_column_locations[click_result_col]) == 0):\n",
    "                        # all the spaces in the column are taken so the click was on accident\n",
    "                        continue\n",
    "\n",
    "                    (placement_row, open_screen_loc) = heapq.heappop(\n",
    "                        board_column_locations[click_result_col])\n",
    "\n",
    "                    if whose_move == PLAYER_1:\n",
    "                        pos = clicked_circle_screen_loc\n",
    "\n",
    "                        animate_tile_drop(\n",
    "                            screen, clicked_circle_screen_loc, open_screen_loc, click_result_row, PLAYER_1_TITLE_COLOR)\n",
    "\n",
    "                        board[(placement_row, click_result_col)] = whose_move\n",
    "\n",
    "                        (winner, playing) = game_status(board)\n",
    "                        whose_move = PLAYER_2\n",
    "                    else:\n",
    "                        animate_tile_drop(\n",
    "                            screen, clicked_circle_screen_loc, open_screen_loc, click_result_row, PLAYER_2_TITLE_COLOR)\n",
    "                        board[(placement_row, click_result_col)] = whose_move\n",
    "                        (winner, playing) = game_status(board)\n",
    "                        whose_move = PLAYER_1\n",
    "\n",
    "                    pygame.display.flip()\n",
    "\n",
    "                    if winner is not None:\n",
    "                        display_winner(screen, winner)\n",
    "                        return winner\n",
    "\n",
    "\n",
    "def display_winner(screen, winner):\n",
    "    font = pygame.font.SysFont(None, 100)\n",
    "    text = font.render(\n",
    "        str(winner) + \" won!\", True, GENERAL_TEXT_COLOR)\n",
    "    text_rect = text.get_rect(\n",
    "        center=(BOARD_WIDTH/2, BOARD_HEIGHT/2))\n",
    "\n",
    "    screen.blit(text, text_rect)\n",
    "    pygame.display.flip()\n",
    "\n",
    "\n",
    "def main():\n",
    "    pygame.init()\n",
    "    pygame.mixer.quit()\n",
    "    screen = set_up_screen()\n",
    "    (board_spaces_locations, board, board_column_locations) = set_up_board(screen)\n",
    "    winner = play(screen, board_spaces_locations,\n",
    "                  board, board_column_locations)\n",
    "\n",
    "    waiting = True\n",
    "    while waiting:\n",
    "        for event in pygame.event.get():\n",
    "            if winner == CLEAR_BOARD or (event.type == pygame.KEYDOWN and event.key == pygame.K_SPACE):\n",
    "                screen = set_up_screen()\n",
    "                (board_spaces_locations, board,\n",
    "                 board_column_locations) = set_up_board(screen)\n",
    "                winner = play(screen, board_spaces_locations,\n",
    "                              board, board_column_locations)\n",
    "            if event.type == pygame.QUIT or winner == QUIT_GAME:\n",
    "                waiting = False\n",
    "                pygame.quit()\n",
    "                return\n",
    "\n",
    "\n",
    "if __name__ == \"__main__\":\n",
    "    main()\n"
   ]
  },
  {
   "cell_type": "markdown",
   "metadata": {},
   "source": [
    "# An evaluation of Python's suitability to your task\n",
    "- Were any problems encountered?\n",
    "- Was Python a good fit for your project?\n",
    "    - In retrospect, would you have preferred to use another language for your project - R, Java, Matlab, C++, etc\n",
    "    - Be honest! You don't have to praise Python. I want to hear about your actual experience. \n",
    "        \n"
   ]
  },
  {
   "cell_type": "markdown",
   "metadata": {},
   "source": [
    "Python was a really good choice for this project. Pygame made graphics and animation super easy. I usually use Java but have never done any animation in Java. I would imagine that it would require more code than I needed for this project. I also found python dictionaries and tuples very easy to work with. Dictionaries made it easy to keep track of where on the screen spaces were and what tiles had been filled in. Tuples made it easy to return many values from a function at once without having to make new classes, which was very convenient. Additionally, heapq worked well as a priority queue, although it was a little confusing to use in the beginning. \n",
    "\n",
    "My biggest problem was that running the connect four game with graphics drained by battery pretty quickly. I followed one post's suggestions (attributed above) to quit the pygame mixer, and that seemed to help some. \n",
    "\n",
    "I also had some tricky bugs. One was where if you clicked on a filled in tile, the board would mark the first open tile in that column as taken in my dictionary, but the animation wouldn't show it being filled. I had to rework my animation function to always fill in the destination slot to fix this issue."
   ]
  }
 ],
 "metadata": {
  "kernelspec": {
   "display_name": "Python 3",
   "language": "python",
   "name": "python3"
  },
  "language_info": {
   "codemirror_mode": {
    "name": "ipython",
    "version": 3
   },
   "file_extension": ".py",
   "mimetype": "text/x-python",
   "name": "python",
   "nbconvert_exporter": "python",
   "pygments_lexer": "ipython3",
   "version": "3.7.4"
  }
 },
 "nbformat": 4,
 "nbformat_minor": 1
}
