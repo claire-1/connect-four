{
 "cells": [
  {
   "cell_type": "markdown",
   "metadata": {},
   "source": [
    "# Connect-Four\n",
    "By Claire Adams (cba2126)\n",
    "\n",
    "TODO WHAT SHOULD THIS NOTEBOOK BE CALLED?\n",
    "TODO fill out this and other jupyter notebook\n",
    "TODO fill this in with all code etc"
   ]
  },
  {
   "cell_type": "markdown",
   "metadata": {},
   "source": [
    "# Requirements\n",
    "Need to have pygame-1.9.6"
   ]
  },
  {
   "cell_type": "markdown",
   "metadata": {},
   "source": [
    "# Sources\n",
    "Intro to pygame tutorial: https://www.edureka.co/blog/pygame-tutorial#z3\n",
    "\n",
    "TODO maybe will use about mouse events in pygame: https://lorenzod8n.wordpress.com/2007/05/30/pygame-tutorial-3-mouse-events/"
   ]
  },
  {
   "cell_type": "code",
   "execution_count": null,
   "metadata": {},
   "outputs": [],
   "source": []
  }
 ],
 "metadata": {
  "kernelspec": {
   "display_name": "Python 3",
   "language": "python",
   "name": "python3"
  },
  "language_info": {
   "codemirror_mode": {
    "name": "ipython",
    "version": 3
   },
   "file_extension": ".py",
   "mimetype": "text/x-python",
   "name": "python",
   "nbconvert_exporter": "python",
   "pygments_lexer": "ipython3",
   "version": "3.7.4"
  }
 },
 "nbformat": 4,
 "nbformat_minor": 1
}
